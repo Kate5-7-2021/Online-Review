{
  "nbformat": 4,
  "nbformat_minor": 0,
  "metadata": {
    "colab": {
      "provenance": []
    },
    "kernelspec": {
      "name": "python3",
      "display_name": "Python 3"
    },
    "language_info": {
      "name": "python"
    }
  },
  "cells": [
    {
      "cell_type": "code",
      "execution_count": null,
      "metadata": {
        "id": "V3AESwy08twt"
      },
      "outputs": [],
      "source": [
        "import pandas as pd\n",
        "import ast\n",
        "import numpy as np\n",
        "import matplotlib\n",
        "from datascience import *\n",
        "%matplotlib inline\n",
        "import matplotlib.pyplot as plots\n",
        "from mpl_toolkits.mplot3d import Axes3D\n",
        "import math\n",
        "import scipy.stats as stats\n",
        "plots.style.use('fivethirtyeight')\n",
        "from scipy.stats import f\n",
        "import scipy\n",
        "from scipy.stats import ttest_ind\n",
        "from scipy.stats import chi2_contingency\n",
        "import matplotlib.pyplot as plt\n",
        "import matplotlib.pyplot as mp\n",
        "import matplotlib.pyplot as plt\n",
        "import seaborn as sns\n",
        "import itertools\n",
        "import matplotlib.pyplot as P\n",
        "import seaborn as sns\n",
        "import matplotlib as mpl\n",
        "%reload_ext autoreload\n",
        "%autoreload 2\n",
        "import plotly.express as px\n",
        "from wordcloud import WordCloud"
      ]
    },
    {
      "cell_type": "code",
      "source": [
        "#Load data\n",
        "df=pd.read_csv('',encoding = \"Latin-1\")"
      ],
      "metadata": {
        "id": "VXIKO0Hbh_ER"
      },
      "execution_count": null,
      "outputs": []
    },
    {
      "cell_type": "code",
      "source": [
        "df['incentivized'].replace({'NominalGift':'Incentive','VendorReferredIncentivized':'Incentive','NoIncentive':' NoIncentive','NonNominalGift':'NoIncentive','VendorReferred':'NoIncentive'}, inplace=True)\n",
        "df[['incentivized']].head(10)"
      ],
      "metadata": {
        "id": "5YDdB3hIh-8C"
      },
      "execution_count": null,
      "outputs": []
    },
    {
      "cell_type": "code",
      "source": [
        "df['incentivized'].value_counts()"
      ],
      "metadata": {
        "id": "MrzHDQJ1h-1g"
      },
      "execution_count": null,
      "outputs": []
    },
    {
      "cell_type": "code",
      "source": [
        "colors = ['darkblue', 'skyblue']\n",
        "\n",
        "df['incentivized'].value_counts().plot(kind='barh', color=colors, fontsize=10, figsize=(6,2))\n",
        "plt.ylabel(\"Incentivized\", fontweight='bold', fontsize=10)\n",
        "plt.xlabel(\"Review Count\", fontweight='bold', fontsize=10)\n",
        "plt.title(\"Review Count Based on Receiving Reward or Not\", y=1.02, fontweight='bold', fontsize=10)\n",
        "plt.tight_layout()\n",
        "plt.show()"
      ],
      "metadata": {
        "id": "S1udlFRIh-yI"
      },
      "execution_count": null,
      "outputs": []
    },
    {
      "cell_type": "markdown",
      "source": [],
      "metadata": {
        "id": "IYpOBTuPnT6s"
      }
    },
    {
      "cell_type": "markdown",
      "source": [
        "##**Modify the code to get the visualizations for \"Ease of Use\", \"Features\", \"Customer Support\" and \"Likelihood to Recommend\"**"
      ],
      "metadata": {
        "id": "0MfKbV22myFp"
      }
    },
    {
      "cell_type": "code",
      "source": [
        "dfov = df.groupby(['overAllRating', 'incentivized'])['incentivized'].count()\n",
        "dfov = dfov.unstack('incentivized', fill_value=0)\n",
        "\n",
        "dfvf = df.groupby(['value_for_money', 'incentivized'])['incentivized'].count()\n",
        "dfvf = dfvf.unstack('incentivized', fill_value=0)\n",
        "\n",
        "colors = ['skyblue','darkblue']\n",
        "\n",
        "fig, axs = plt.subplots(ncols=2, figsize=(13,6))\n",
        "fig.subplots_adjust(wspace=0.4)\n",
        "\n",
        "dfov.plot(kind='barh', ax=axs[0], color=colors)\n",
        "dfvf.plot(kind='barh', ax=axs[1], color=colors)\n",
        "\n",
        "# Add count labels to each bar\n",
        "for i in axs:\n",
        "    for j in i.containers:\n",
        "        i.bar_label(j, label_type='edge', fontweight='bold', fontsize=10, labels=j.datavalues.astype(int))\n",
        "\n",
        "axs[0].set_title('Over All Rating', fontsize=18, fontweight='bold')\n",
        "axs[0].set_xlabel('Count', fontsize=14, fontweight='bold')\n",
        "axs[0].set_ylabel('Rate', fontsize=14, fontweight='bold')\n",
        "axs[0].tick_params(axis='y', labelsize=12)\n",
        "\n",
        "axs[1].set_title('Value for Money', fontsize=18, fontweight='bold')\n",
        "axs[1].set_xlabel('Count', fontsize=14, fontweight='bold')\n",
        "axs[1].set_ylabel('Rate', fontsize=14, fontweight='bold')\n",
        "axs[1].tick_params(axis='y', labelsize=12)\n",
        "\n",
        "for ax in axs:\n",
        "    ax.legend().remove()\n",
        "\n",
        "handles, labels = axs[1].get_legend_handles_labels()\n",
        "fig.legend(handles, labels, loc='lower center', ncol=4, bbox_to_anchor=(0.5, -0.15))\n",
        "\n",
        "plt.subplots_adjust(wspace=0.3)\n",
        "\n",
        "plt.show()"
      ],
      "metadata": {
        "id": "PpB5YwvNh-oK"
      },
      "execution_count": null,
      "outputs": []
    },
    {
      "cell_type": "markdown",
      "source": [
        "##**Reviews over the years**"
      ],
      "metadata": {
        "id": "mNETdxLupHAZ"
      }
    },
    {
      "cell_type": "code",
      "source": [
        "df13 = df.groupby(['year','ReviewDescription_Sentiment', 'incentivized'])['incentivized'].count().reset_index(name='count')\n",
        "\n",
        "df13 = df13.pivot(index='year', columns=['incentivized', 'ReviewDescription_Sentiment'], values='count')\n",
        "df13.columns = ['NoIncentive_NEGATIVE', 'NoIncentive_POSITIVE', 'Incentive_NEGATIVE', 'Incentive_POSITIVE']\n",
        "\n",
        "fig, ax = plt.subplots(figsize=(4,4))\n",
        "\n",
        "ax.plot(df13.index, df13['Incentive_POSITIVE'], color='darkblue', label='Incentive - Positive')\n",
        "ax.plot(df13.index, df13['Incentive_NEGATIVE'], color='skyblue', label='Incentive - Negative')\n",
        "ax.plot(df13.index, df13['NoIncentive_POSITIVE'], color='royalblue', label='No Incentive - Positive')\n",
        "ax.plot(df13.index, df13['NoIncentive_NEGATIVE'], color='powderblue', label='No Incentive - Negative')\n",
        "\n",
        "ax.set_xlabel('Year', fontweight='bold', fontsize=10)\n",
        "ax.set_ylabel('Count of Review Description Sentiment', fontweight='bold', fontsize=10)\n",
        "ax.set_title('Reviews over Years by Incentivized and Sentiment Status', fontweight='bold', fontsize=10)\n",
        "\n",
        "ax.legend(loc='lower center', bbox_to_anchor=(0.5, -0.4), ncol=2, fontsize=12)\n",
        "ax.tick_params(axis='x', labelsize=10)\n",
        "ax.tick_params(axis='y', labelsize=10)\n",
        "\n",
        "\n",
        "plt.show()"
      ],
      "metadata": {
        "id": "7iRwfn5h42y6"
      },
      "execution_count": null,
      "outputs": []
    },
    {
      "cell_type": "markdown",
      "source": [
        "##**Reviews by time used (modify the code to get the results for \"company size based on the number of employees\")**"
      ],
      "metadata": {
        "id": "pNnhVTq_p4A2"
      }
    },
    {
      "cell_type": "code",
      "source": [
        "df_filtered = df.loc[df['time_used'] != 'None']\n",
        "df18 = df_filtered.groupby(['time_used', 'ReviewDescription_Sentiment', 'incentivized'])['incentivized'].count().reset_index(name='count')\n",
        "df18 = df18.pivot(index='time_used', columns=['incentivized', 'ReviewDescription_Sentiment'], values='count')\n",
        "df18.columns = ['NoIncentive_NEGATIVE', 'NoIncentive_POSITIVE', 'Incentive_NEGATIVE', 'Incentive_POSITIVE']\n",
        "df18 = df18.sort_values('Incentive_POSITIVE')\n",
        "\n",
        "fig, ax = plt.subplots(figsize=(10,4))\n",
        "\n",
        "ax.plot(df18.index, df18['Incentive_POSITIVE'], color='darkblue', label='Incentive - Positive')\n",
        "ax.plot(df18.index, df18['Incentive_NEGATIVE'], color='skyblue', label='Incentive - Negative')\n",
        "ax.plot(df18.index, df18['NoIncentive_POSITIVE'], color='royalblue', label='No Incentive - Positive')\n",
        "ax.plot(df18.index, df18['NoIncentive_NEGATIVE'], color='powderblue', label='No Incentive - Negative')\n",
        "\n",
        "ax.set_xlabel('Time Used', fontweight='bold', fontsize=12)\n",
        "ax.set_ylabel('Count of Review Description Sentiment', fontweight='bold', fontsize=12)\n",
        "ax.set_title('Reviews by Time Used, Incentivized and Sentiment Status', fontweight='bold', fontsize=12)\n",
        "\n",
        "ax.legend(loc='lower center', bbox_to_anchor=(0.5, -0.4), ncol=2, fontsize=12)\n",
        "ax.tick_params(axis='x', labelsize=10)\n",
        "ax.tick_params(axis='y', labelsize=10)\n",
        "\n",
        "plt.show()"
      ],
      "metadata": {
        "id": "eXEyeodSp49m"
      },
      "execution_count": null,
      "outputs": []
    },
    {
      "cell_type": "markdown",
      "source": [
        "##**'Review Description', 'Pros' and 'Cons' sentiment count**"
      ],
      "metadata": {
        "id": "v9wgflMRobjB"
      }
    },
    {
      "cell_type": "code",
      "source": [
        "dfs = df.groupby(['ReviewDescription_Sentiment', 'incentivized'])['incentivized'].count()\n",
        "dfs = dfs.unstack('incentivized', fill_value=0)\n",
        "\n",
        "dfp = df.groupby(['pros_Sentiment', 'incentivized'])['incentivized'].count()\n",
        "dfp = dfp.unstack('incentivized', fill_value=0)\n",
        "\n",
        "dfc = df.groupby(['cons_Sentiment', 'incentivized'])['incentivized'].count()\n",
        "dfc = dfc.unstack('incentivized', fill_value=0)\n",
        "\n",
        "colors = ['skyblue','darkblue' ]\n",
        "\n",
        "# Create the horizontal bar plot\n",
        "fig, axs = plt.subplots(ncols=3, figsize=(15,3))\n",
        "fig.subplots_adjust(wspace=0.4)\n",
        "\n",
        "dfs.plot(kind='barh', ax=axs[0], color=colors)\n",
        "dfp.plot(kind='barh', ax=axs[1], color=colors)\n",
        "dfc.plot(kind='barh', ax=axs[2], color=colors)\n",
        "\n",
        "# Add count labels to each bar\n",
        "for i in axs:\n",
        "    for j in i.containers:\n",
        "        i.bar_label(j, label_type='edge', fontweight='bold', fontsize=10, labels=j.datavalues.astype(int))\n",
        "\n",
        "axs[0].set_title('Review Description', fontsize=18, fontweight='bold')\n",
        "axs[0].set_xlabel('Count', fontsize=14, fontweight='bold')\n",
        "axs[0].set_ylabel('Sentiment', fontsize=14, fontweight='bold')\n",
        "axs[0].tick_params(axis='y', labelsize=12)\n",
        "\n",
        "axs[1].set_title('Pros', fontsize=18, fontweight='bold')\n",
        "axs[1].set_xlabel('Count', fontsize=14, fontweight='bold')\n",
        "axs[1].set_ylabel('Sentiment', fontsize=14, fontweight='bold')\n",
        "axs[1].tick_params(axis='y', labelsize=12)\n",
        "\n",
        "axs[2].set_title('Cons', fontsize=18, fontweight='bold')\n",
        "axs[2].set_xlabel('Count', fontsize=14, fontweight='bold')\n",
        "axs[2].set_ylabel('Sentiment', fontsize=14, fontweight='bold')\n",
        "axs[2].tick_params(axis='y', labelsize=12)\n",
        "\n",
        "\n",
        "for ax in axs:\n",
        "    ax.legend().remove()\n",
        "\n",
        "handles, labels = axs[2].get_legend_handles_labels()\n",
        "\n",
        "fig.legend(handles, labels, loc='lower center', ncol=4, bbox_to_anchor=(0.5, -0.35))\n",
        "\n",
        "plt.subplots_adjust(wspace=0.7)\n",
        "\n",
        "plt.show()"
      ],
      "metadata": {
        "id": "S25r3KTRh-rb"
      },
      "execution_count": null,
      "outputs": []
    },
    {
      "cell_type": "markdown",
      "source": [
        "##**Top 20 words**"
      ],
      "metadata": {
        "id": "akwEW3p3rB1E"
      }
    },
    {
      "cell_type": "code",
      "source": [
        "from collections import Counter\n",
        "\n",
        "\n",
        "# group the reviews\n",
        "grouped_reviews = df.groupby(['ReviewDescription_Sentiment', 'incentivized'])\n",
        "\n",
        "# create a word cloud\n",
        "for name, group in grouped_reviews:\n",
        "    sentiment, incentivized = name\n",
        "    text = \" \".join(review for review in group.preprocessed_ReviewDescription)\n",
        "    wordcloud = WordCloud(background_color='white')\n",
        "    wordcloud.generate(text)\n",
        "\n",
        "    # Get a dictionary\n",
        "    word_frequencies = wordcloud.process_text(text)\n",
        "\n",
        "    # Sort the dictionary\n",
        "    sorted_word_frequencies = dict(sorted(word_frequencies.items(), key=lambda item: item[1], reverse=True))\n",
        "\n",
        "    # Select the top 20 words\n",
        "    top_20_words = dict(Counter(sorted_word_frequencies).most_common(20))\n",
        "\n",
        "    fig, ax = plt.subplots(1, 2, figsize=(12,6))\n",
        "    ax[0].imshow(wordcloud, interpolation='bilinear')\n",
        "    ax[0].axis(\"off\")\n",
        "    ax[0].set_title(f\"{sentiment} Sentiment - Incentivized: {incentivized}\",fontweight='bold', fontsize=12)\n",
        "\n",
        "    ax[1].barh(list(top_20_words.keys()), list(top_20_words.values()), color='royalblue')\n",
        "    ax[1].tick_params(axis='y', labelsize=12)\n",
        "\n",
        "    ax[1].set_xlabel(f'{sentiment} {incentivized} Review Count', fontweight='bold', fontsize=12)\n",
        "    ax[1].set_title('Top 20 Words by Incentivized and Sentiment Status', fontweight='bold', fontsize=12)\n",
        "\n",
        "    plt.show()"
      ],
      "metadata": {
        "id": "ShVUrEPQNCr3"
      },
      "execution_count": null,
      "outputs": []
    },
    {
      "cell_type": "code",
      "source": [],
      "metadata": {
        "id": "U5OUZY6Fh-gv"
      },
      "execution_count": null,
      "outputs": []
    },
    {
      "cell_type": "code",
      "source": [
        "df_select=df[['incentivized','overAllRating', 'value_for_money', 'ease_of_use','features','customer_support','likelihood_to_recommend', 'frequency_of_use','time_used','source']]\n",
        "\n",
        "plt.figure(figsize=(8,6))\n",
        "sns.set_context('paper', font_scale=1.4)\n",
        "df_select_mx=df_select.corr()\n",
        "df_select_mx\n",
        "\n",
        "\n",
        "df_select_mx.values[np.triu_indices_from(df_select_mx)] = 1\n",
        "mask = np.zeros_like(df_select_mx)\n",
        "mask[np.triu_indices_from(mask)] = True\n",
        "\n",
        "sns.heatmap(df_select_mx, mask=mask, annot=True, cmap='Greens')"
      ],
      "metadata": {
        "id": "DS0SqDuch-c8"
      },
      "execution_count": null,
      "outputs": []
    },
    {
      "cell_type": "code",
      "source": [
        "df_select_mx = df_select_mx.where(np.triu(np.ones(df_select_mx.shape)).astype(np.bool))\n",
        "\n",
        "# Set the diagonal to 1\n",
        "np.fill_diagonal(df_select_mx.values, 1)\n",
        "\n",
        "# Create the heatmap\n",
        "fig, ax = plt.subplots(figsize=(4.5, 4.5))\n",
        "ax=sns.heatmap(df_select_mx, annot=True, cmap='Blues', vmin=0, vmax=1, square=True, annot_kws={\"size\": 10})\n",
        "\n",
        "\n",
        "plt.setp(ax.get_xticklabels(), fontsize=10)\n",
        "#plt.setp(ax.get_xticklabels(), rotation=90, fontsize=10)\n",
        "plt.setp(ax.get_yticklabels(),  fontsize=10)\n",
        "plt.title('Correlation Among Review Features',fontweight='bold', fontsize=10)\n",
        "cbar = ax.collections[0].colorbar\n",
        "cbar.ax.tick_params(labelsize=10)\n",
        "plt.show()"
      ],
      "metadata": {
        "id": "0Va6ZA6Gh-Y4"
      },
      "execution_count": null,
      "outputs": []
    },
    {
      "cell_type": "markdown",
      "source": [
        "##**Top 20 trigrams**"
      ],
      "metadata": {
        "id": "IXGZtLy5OoCg"
      }
    },
    {
      "cell_type": "code",
      "execution_count": null,
      "metadata": {
        "id": "GD4ewuXEweQw"
      },
      "outputs": [],
      "source": [
        "import re\n",
        "from sklearn.feature_extraction.text import TfidfVectorizer\n",
        "import nltk\n",
        "from nltk.corpus import stopwords\n",
        "from nltk.stem import WordNetLemmatizer\n",
        "import random\n",
        "\n",
        "nltk.download('stopwords')\n",
        "nltk.download('wordnet')\n",
        "\n",
        "# Load dataset\n",
        "df = pd.read_csv('')\n",
        "\n",
        "# Select 5000 random samples\n",
        "incentive_df = df[df['Incentivized'] == 'Incentive'].sample(n=5000, random_state=1)\n",
        "noincentive_df = df[df['Incentivized'] == 'NoIncentive'].sample(n=5000, random_state=1)\n",
        "\n",
        "# Preprocessing function\n",
        "def preprocess(text):\n",
        "    if not isinstance(text, str):\n",
        "        return ''\n",
        "    text = text.lower()\n",
        "    text = re.sub(r'[^a-z\\s]', '', text)\n",
        "    stop_words = set(stopwords.words('english'))\n",
        "    words = text.split()\n",
        "    words = [word for word in words if word not in stop_words]\n",
        "    lemmatizer = WordNetLemmatizer()\n",
        "    words = [lemmatizer.lemmatize(word) for word in words]\n",
        "    return ' '.join(words)\n",
        "\n",
        "\n",
        "incentive_df['processed_review'] = incentive_df['preprocessed_ReviewDescription'].apply(preprocess)\n",
        "noincentive_df['processed_review'] = noincentive_df['preprocessed_ReviewDescription'].apply(preprocess)\n",
        "\n",
        "# Extract top n trigrams\n",
        "def get_top_n_trigrams(corpus, n=40):\n",
        "    vectorizer = TfidfVectorizer(ngram_range=(3, 3))\n",
        "    X = vectorizer.fit_transform(corpus)\n",
        "    scores = np.array(X.sum(axis=0)).ravel()\n",
        "    indices = np.argsort(scores)[::-1]\n",
        "    feature_names = np.array(vectorizer.get_feature_names_out())\n",
        "    top_features = [(feature_names[i], scores[i]) for i in indices[:n]]\n",
        "    return dict(top_features)\n",
        "\n",
        "top_incentive_trigrams = get_top_n_trigrams(incentive_df['processed_review'])\n",
        "top_noincentive_trigrams = get_top_n_trigrams(noincentive_df['processed_review'])\n",
        "\n",
        "def plot_top_trigrams(top_trigrams, title):\n",
        "    trigrams, freqs = zip(*top_trigrams.items())\n",
        "    plt.figure(figsize=(10, 10.5))\n",
        "\n",
        "    bars = plt.barh(trigrams, freqs, color='blue')\n",
        "\n",
        "    plt.barh(trigrams, freqs)\n",
        "    plt.xlabel('TF-IDF Score')\n",
        "    plt.title(f'Top 40 Trigrams in {title} Review Description')\n",
        "\n",
        "    for\n",
        "        width = bar.get_width()\n",
        "        label_x_pos = width + 0.01\n",
        "\n",
        "        plt.text(label_x_pos, bar.get_y() + bar.get_height() / 2, f'{width:.2f}',\n",
        "                 va='center')\n",
        "\n",
        "    plt.gca().invert_yaxis()\n",
        "    plt.show()\n",
        "\n",
        "plot_top_trigrams(top_incentive_trigrams, 'Incentive')\n",
        "plot_top_trigrams(top_noincentive_trigrams, 'NoIncentive')\n"
      ]
    },
    {
      "cell_type": "markdown",
      "source": [
        "##**Group Listing IDs**"
      ],
      "metadata": {
        "id": "2dKITJxPPEwW"
      }
    },
    {
      "cell_type": "code",
      "source": [
        "df['Incentivized'] = df['Incentivized'].str.upper()\n",
        "df['ReviewDescription_Sentiment'] = df['ReviewDescription_Sentiment'].str.upper()\n",
        "df['pros_Sentiment'] = df['pros_Sentiment'].str.upper()\n",
        "df['cons_Sentiment'] = df['cons_Sentiment'].str.upper()\n",
        "\n",
        "# Group by 'listing_id'\n",
        "review_sentiment = df.groupby(['listing_id', 'Incentivized'])['ReviewDescription_Sentiment'].value_counts().unstack(fill_value=0)\n",
        "pros_sentiment = df.groupby(['listing_id', 'Incentivized'])['pros_Sentiment'].value_counts().unstack(fill_value=0)\n",
        "cons_sentiment = df.groupby(['listing_id', 'Incentivized'])['cons_Sentiment'].value_counts().unstack(fill_value=0)\n",
        "\n",
        "category = review_sentiment.groupby('listing_id').apply(lambda x: 'Both (Incentive & NoIncentive)' if len(x) > 1 else ('Just Incentive' if 'INCENTIVE' in x.index.get_level_values(1) else 'Just NoIncentive'))\n",
        "category.name = 'Category'\n",
        "\n",
        "review_sentiment = review_sentiment.merge(category, on='listing_id')\n",
        "pros_sentiment = pros_sentiment.merge(category, on='listing_id')\n",
        "cons_sentiment = cons_sentiment.merge(category, on='listing_id')\n",
        "\n",
        "review_count = review_sentiment.groupby('Category')['POSITIVE', 'NEGATIVE'].sum()\n",
        "pros_count = pros_sentiment.groupby('Category')['POSITIVE', 'NEGATIVE'].sum()\n",
        "cons_count = cons_sentiment.groupby('Category')['POSITIVE', 'NEGATIVE'].sum()\n",
        "listing_count = review_sentiment.reset_index().groupby('Category')['listing_id'].nunique()\n",
        "\n",
        "# Combine the results\n",
        "result = pd.concat([listing_count, review_count, pros_count, cons_count], axis=1)\n",
        "result.columns = ['Number of Listings', 'Review Description POSITIVE', 'Review Description NEGATIVE', 'Pros POSITIVE', 'Pros NEGATIVE', 'Cons POSITIVE', 'Cons NEGATIVE']\n",
        "\n",
        "print(result)\n"
      ],
      "metadata": {
        "id": "5v3N9zvpc_JE"
      },
      "execution_count": null,
      "outputs": []
    },
    {
      "cell_type": "code",
      "source": [
        "# Prepare columns for analysis\n",
        "df['Incentivized'] = df['Incentivized'].str.upper()\n",
        "df['ReviewDescription_Sentiment'] = df['ReviewDescription_Sentiment'].str.upper()\n",
        "df['pros_Sentiment'] = df['pros_Sentiment'].str.upper()\n",
        "df['cons_Sentiment'] = df['cons_Sentiment'].str.upper()\n",
        "\n",
        "# Function to categorize listings (replace the dots with results from previous code)\n",
        "def categorize_listing(row):\n",
        "    if row['Incentivized_count'] == 2:\n",
        "        return 'Both (... ID)'\n",
        "    elif 'INCENTIVE' in row['Incentivized_types']:\n",
        "        return 'Incentive (... ID)'\n",
        "    else:\n",
        "        return 'NoIncentive (... ID)'\n",
        "\n",
        "listing_categories = df.groupby('listing_id')['Incentivized'].agg(['nunique', 'unique']).rename(columns={'nunique': 'Incentivized_count', 'unique': 'Incentivized_types'})\n",
        "df = df.join(listing_categories, on='listing_id')\n",
        "df['Category'] = df.apply(categorize_listing, axis=1)\n",
        "\n",
        "# Group and count the sentiments\n",
        "review_sentiment = df.groupby(['Category', 'ReviewDescription_Sentiment'])['listing_id'].count().unstack(fill_value=0)\n",
        "pros_sentiment = df.groupby(['Category', 'pros_Sentiment'])['listing_id'].count().unstack(fill_value=0)\n",
        "cons_sentiment = df.groupby(['Category', 'cons_Sentiment'])['listing_id'].count().unstack(fill_value=0)\n",
        "\n",
        "colors = ['skyblue', 'darkblue']\n",
        "\n",
        "fig, axs = plt.subplots(ncols=3, figsize=(15, 5), sharey=True)\n",
        "fig.subplots_adjust(wspace=0.5)\n",
        "\n",
        "def plot_bars(ax, data, title):\n",
        "    bars = data.plot(kind='barh', ax=ax, color=colors, width=0.8)\n",
        "    ax.set_title(title, fontweight='bold')\n",
        "    ax.set_xlabel('Count', fontsize=14, fontweight='bold')\n",
        "\n",
        "    max_bar_value = data.values.max()\n",
        "\n",
        "    for bar in bars.patches:\n",
        "        bar_value = int(bar.get_width())\n",
        "        if bar_value > max_bar_value * 0.1:\n",
        "            text_x_position = bar_value - (bar_value * 0.01)\n",
        "            text_color = 'white'\n",
        "            ha = 'right'\n",
        "        else:\n",
        "            text_x_position = bar_value + (max_bar_value * 0.01)\n",
        "            text_color = 'black'\n",
        "            ha = 'left'\n",
        "\n",
        "        ax.text(text_x_position, bar.get_y() + bar.get_height() / 2,\n",
        "                f'{bar_value}',\n",
        "                va='center', ha=ha, color=text_color, fontweight='bold')\n",
        "    ax.set_xlim(0, max_bar_value + (max_bar_value * 0.1))\n",
        "\n",
        "plot_bars(axs[0], review_sentiment, 'Review Description Sentiment')\n",
        "plot_bars(axs[1], pros_sentiment, 'Pros Sentiment')\n",
        "plot_bars(axs[2], cons_sentiment, 'Cons Sentiment')\n",
        "\n",
        "for ax in axs:\n",
        "    plt.sca(ax)\n",
        "    plt.yticks(fontweight='bold')\n",
        "    ax.set_ylabel('Listing ID Category', fontweight='bold')\n",
        "\n",
        "handles, labels = axs[2].get_legend_handles_labels()\n",
        "fig.legend(handles, labels, loc='lower center', ncol=2, bbox_to_anchor=(0.5, -0.1))\n",
        "\n",
        "plt.tight_layout()\n",
        "\n",
        "plt.show()\n"
      ],
      "metadata": {
        "id": "dv-FyTlpdItp"
      },
      "execution_count": null,
      "outputs": []
    }
  ]
}