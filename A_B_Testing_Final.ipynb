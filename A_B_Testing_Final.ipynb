{
  "nbformat": 4,
  "nbformat_minor": 0,
  "metadata": {
    "colab": {
      "provenance": []
    },
    "kernelspec": {
      "name": "python3",
      "display_name": "Python 3"
    },
    "language_info": {
      "name": "python"
    }
  },
  "cells": [
    {
      "cell_type": "code",
      "execution_count": null,
      "metadata": {
        "id": "hJrVu_25VXAX"
      },
      "outputs": [],
      "source": [
        "import pandas as pd\n",
        "import ast\n",
        "import numpy as np\n",
        "import matplotlib\n",
        "from datascience import *\n",
        "%matplotlib inline\n",
        "import matplotlib.pyplot as plots\n",
        "from mpl_toolkits.mplot3d import Axes3D\n",
        "import math\n",
        "import scipy.stats as stats\n",
        "plots.style.use('fivethirtyeight')\n",
        "from scipy.stats import f\n",
        "import scipy\n",
        "from scipy.stats import ttest_ind\n",
        "from scipy.stats import chi2_contingency\n",
        "import matplotlib.pyplot as plt\n",
        "import matplotlib.pyplot as mp\n",
        "import matplotlib.pyplot as plt\n",
        "import seaborn as sns\n",
        "import itertools"
      ]
    },
    {
      "cell_type": "code",
      "source": [
        "#load data\n",
        "df=pd.read_csv('',encoding = \"Latin-1\")"
      ],
      "metadata": {
        "id": "-kUX9pyFfmkx"
      },
      "execution_count": null,
      "outputs": []
    },
    {
      "cell_type": "code",
      "source": [
        "df['incentivized'].replace({'NominalGift':'Incentive','VendorReferredIncentivized':'Incentive','NoIncentive':' NoIncentive','NonNominalGift':'NoIncentive','VendorReferred':'NoIncentive'}, inplace=True)"
      ],
      "metadata": {
        "id": "6pnndUT-Swxs"
      },
      "execution_count": null,
      "outputs": []
    },
    {
      "cell_type": "markdown",
      "source": [
        "##**Apply A/B test for each rating score (modify the code for each rating score)**"
      ],
      "metadata": {
        "id": "4UTw22DhSXOa"
      }
    },
    {
      "cell_type": "code",
      "source": [
        "dfo=pd.crosstab(df['overAllRating'], df['incentivized'])"
      ],
      "metadata": {
        "id": "gjRRg1J3Ujdl"
      },
      "execution_count": null,
      "outputs": []
    },
    {
      "cell_type": "code",
      "source": [
        "dfo1=pd.crosstab(df['overAllRating'], df['incentivized']).apply(lambda r: r/r.sum(), axis=1)"
      ],
      "metadata": {
        "id": "pep2eNe1UjaY"
      },
      "execution_count": null,
      "outputs": []
    },
    {
      "cell_type": "code",
      "source": [
        "dfo2=pd.crosstab(df['overAllRating'], df['incentivized'],normalize='index').round(4)*100"
      ],
      "metadata": {
        "id": "frgFBOqNfmfz"
      },
      "execution_count": null,
      "outputs": []
    },
    {
      "cell_type": "code",
      "source": [
        "dfo.plot.pie(subplots=True,figsize =(14, 14),autopct='%1.1f%%')\n",
        "\n",
        "plt.legend(title='Overall Rating', loc=(1,.5))\n",
        "\n",
        "plt.tight_layout()\n",
        "plt.show()"
      ],
      "metadata": {
        "id": "joanCvd1fmY-"
      },
      "execution_count": null,
      "outputs": []
    },
    {
      "cell_type": "code",
      "source": [
        "mean_value = df.groupby('incentivized')['overAllRating']\n",
        "\n",
        "std_p = lambda x: np.std(x, ddof=0)\n",
        "se_p = lambda x: stats.sem(x, ddof=0)\n",
        "\n",
        "mean_value = mean_value.agg([np.mean, std_p, se_p])\n",
        "mean_value.columns = ['mean_value', 'std_deviation', 'std_error']\n",
        "\n",
        "\n",
        "mean_value.style.format('{:.3f}')"
      ],
      "metadata": {
        "id": "Lgmg0S1ofmQ9"
      },
      "execution_count": null,
      "outputs": []
    },
    {
      "cell_type": "code",
      "execution_count": null,
      "metadata": {
        "id": "7LUOxTeW0G9w"
      },
      "outputs": [],
      "source": [
        "ab_summary = df.pivot_table(values='overAllRating', index='incentivized', aggfunc=np.sum)\n",
        "ab_summary['total'] = df.pivot_table(values='overAllRating', index='incentivized', aggfunc=lambda x: len(x))\n",
        "ab_summary[['total','overAllRating']]"
      ]
    },
    {
      "cell_type": "code",
      "execution_count": null,
      "metadata": {
        "id": "qRHtAL3Krf0m"
      },
      "outputs": [],
      "source": [
        "df_overAllRating=df[['overAllRating','incentivized']]"
      ]
    },
    {
      "cell_type": "code",
      "execution_count": null,
      "metadata": {
        "id": "MXXKEqFtJMrb"
      },
      "outputs": [],
      "source": [
        "df_overAllRating.shape"
      ]
    },
    {
      "cell_type": "code",
      "execution_count": null,
      "metadata": {
        "id": "HQUwVkgcrfxF"
      },
      "outputs": [],
      "source": [
        "DF_overAllRating = Table.from_df(df_overAllRating)\n",
        "DF_overAllRating.hist( 'overAllRating', group = 'incentivized',histtype='bar', stacked=True)\n",
        "plt.xlabel('Overall Rating', fontweight ='bold', fontsize = 15)\n"
      ]
    },
    {
      "cell_type": "code",
      "execution_count": null,
      "metadata": {
        "id": "0Rl1UKVnSCuR"
      },
      "outputs": [],
      "source": [
        "DF_overAllRating = Table.from_df(df_overAllRating)\n",
        "DF_overAllRating.hist( 'overAllRating',  group = 'incentivized')\n",
        "plt.xlabel('overAllRating', fontweight ='bold', fontsize = 15)"
      ]
    },
    {
      "cell_type": "code",
      "execution_count": null,
      "metadata": {
        "id": "o-0EmqkJrft1"
      },
      "outputs": [],
      "source": [
        "means_table = DF_overAllRating.group('incentivized', np.average)\n",
        "means_table"
      ]
    },
    {
      "cell_type": "code",
      "execution_count": null,
      "metadata": {
        "id": "yHjCd1wUrfqs"
      },
      "outputs": [],
      "source": [
        "observed_difference = difference_of_means(DF_overAllRating, 'overAllRating', 'incentivized')\n",
        "observed_difference"
      ]
    },
    {
      "cell_type": "code",
      "execution_count": null,
      "metadata": {
        "id": "fxBC7TadrfnB"
      },
      "outputs": [],
      "source": [
        "differences = make_array()\n",
        "\n",
        "for i in np.arange(repetitions):\n",
        "    new_difference = one_simulated_difference(DF_overAllRating, 'overAllRating', 'incentivized')\n",
        "    differences = np.append(differences, new_difference)"
      ]
    },
    {
      "cell_type": "code",
      "execution_count": null,
      "metadata": {
        "id": "rI8rbbTorfi5"
      },
      "outputs": [],
      "source": [
        "Table().with_column('Difference Between Group Means', differences).hist()\n",
        "print('Observed Difference:', observed_difference)\n",
        "plots.scatter(observed_difference, 0, color='red', s=40, zorder=3)\n",
        "plots.title('Prediction Under the Null Hypothesis');"
      ]
    },
    {
      "cell_type": "code",
      "execution_count": null,
      "metadata": {
        "id": "mVQ7N943rffg"
      },
      "outputs": [],
      "source": [
        "empirical_P = np.count_nonzero(differences <= observed_difference) / repetitions\n",
        "empirical_P"
      ]
    }
  ]
}